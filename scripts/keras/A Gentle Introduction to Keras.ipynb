{
 "cells": [
  {
   "cell_type": "markdown",
   "metadata": {},
   "source": [
    "# Welcome to A Gentle Introduction to Keras "
   ]
  },
  {
   "cell_type": "markdown",
   "metadata": {},
   "source": [
    "This course focuses on a specific sub-field of machine learning called **predictive modeling.**\n",
    "\n",
    "Within predicitve modeling is a speciality or another sub-field called **deep learning.**\n",
    "\n",
    "We will be crafting deep learning models with a library called Keras. \n",
    "\n",
    ">**Predictive modeling** is focused on developing models that make accurate predictions at the expense of explaining why predictions are made. \n",
    "\n",
    "You and I don't need to be able to write a binary classification model. We need to know how to use and interpret the results of the model. "
   ]
  },
  {
   "cell_type": "markdown",
   "metadata": {},
   "source": [
    "**Where does machine learning fit into data science?**\n",
    "\n",
    "Data science is a much broader discipline. \n",
    "\n",
    "> Data Scientists take the raw data, analyse it, connect the dots and tell a story often via several visualizations. They usually have a broader range of skill-set and may not have too much depth into more than one or two. They are more on the creative side. Like an Artist. An Engineer, on the other hand, is someone who looks at the data as something they have to take in and churn out an output in some appropriate form in the most efficient way possible. The implementation details and other efficiency hacks are usually on the tip of their fingers. There can be a lot of overlap between the two but it is more like A Data Scientist is a Machine Learning Engineer but not the other way round. -- Ria Chakraborty, Data Scientist\n",
    "\n",
    "\n",
    "\n"
   ]
  },
  {
   "cell_type": "markdown",
   "metadata": {},
   "source": [
    "# Step 1. Import our modules\n",
    "\n",
    "Two important points here. Firstly, the **from** means we aren't importing the entire library, only a specific module. Secondly, notice we **are** imporing the entire numpy library. \n",
    "\n",
    "> If you get a message that states: WARNING (theano.configdefaults): g++ not detected, blah... blah. Run this in your Anaconda prompt. \n",
    "\n",
    "conda install mingw libpython\n",
    "\n"
   ]
  },
  {
   "cell_type": "code",
   "execution_count": null,
   "metadata": {
    "collapsed": false
   },
   "outputs": [],
   "source": [
    "from keras.models import Sequential\n",
    "from keras.layers import Dense\n",
    "import numpy"
   ]
  },
  {
   "cell_type": "markdown",
   "metadata": {},
   "source": [
    "# Step 2.  Set our random seed\n"
   ]
  },
  {
   "cell_type": "markdown",
   "metadata": {},
   "source": [
    "Run an algorithm on a dataset and you've built a great model. Can you produce the same model again given the same data?\n",
    "You should be able to. It should be a requirement that is high on the list for your modeling project.\n",
    "\n",
    "> We achieve reproducibility in applied machine learning by using the exact same code, data and sequence of random numbers.\n",
    "\n",
    "Random numbers are created using a random number generator. It’s a simple program that generates a sequence of numbers that are random enough for most applications.\n",
    "\n",
    "This math function is deterministic. If it uses the same starting point called a seed number, it will give the same sequence of random numbers.\n",
    "\n",
    "Hold on... what's **deterministic** mean? \n",
    "\n",
    "> \"a deterministic algorithm is an algorithm which, given a particular input, will always produce the same output, with the underlying machine always passing through the same sequence of states\"\n",
    "\n",
    "Let's apply an English translator to this: \n",
    "\n",
    "> The **only purpose of seeding** is to make sure that you get the **exact same result** when you run this code many times on the exact same data."
   ]
  },
  {
   "cell_type": "code",
   "execution_count": null,
   "metadata": {
    "collapsed": true
   },
   "outputs": [],
   "source": [
    "seed = 9\n",
    "numpy.random.seed(seed)"
   ]
  },
  {
   "cell_type": "markdown",
   "metadata": {},
   "source": [
    "# Step 3.  Import our data set\n"
   ]
  },
  {
   "cell_type": "markdown",
   "metadata": {},
   "source": [
    "Let's import the object called read_csv. \n",
    "\n",
    "We define a variable called filename and put our data set in it. \n",
    "\n",
    "The last line does the work. It using the function called **read_csv** to put the contents of our data set into a variable called dataframe. "
   ]
  },
  {
   "cell_type": "code",
   "execution_count": null,
   "metadata": {
    "collapsed": false
   },
   "outputs": [],
   "source": [
    "from pandas import read_csv\n",
    "filename = 'BBCN.csv'\n",
    "dataframe = read_csv(filename)"
   ]
  },
  {
   "cell_type": "markdown",
   "metadata": {},
   "source": [
    "# Step 4.  Split the Output Variables\n"
   ]
  },
  {
   "cell_type": "markdown",
   "metadata": {},
   "source": [
    "The first thing we need to do is put our data in an array. \n",
    "\n",
    "> An array is a data structure that stores values of **same data type**. \n",
    "\n",
    "In Python, this is the main difference between arrays and lists. While python lists can contain values corresponding to different data types, arrays in python can only contain values corresponding to same data type."
   ]
  },
  {
   "cell_type": "code",
   "execution_count": null,
   "metadata": {
    "collapsed": true
   },
   "outputs": [],
   "source": [
    "array = dataframe.values"
   ]
  },
  {
   "cell_type": "markdown",
   "metadata": {},
   "source": [
    "The code below is the trickest part of the exercise. Now, we are assinging X and y as output variables.\n",
    "\n",
    "> That looks pretty easy but keep in mind that an array starts at 0. \n",
    "\n",
    "If you take a look at the shape of our dataframe (shape means the number of columns and rows) you can see we have 12 rows. \n",
    "\n",
    "On the X array below we saying... include all items in the array from 0 to 11. \n",
    "\n",
    "On the y array below we are saying... just use the column in the array mapped to the **11th row**. The **BikeBuyer** column. \n",
    "\n",
    "> Before we split X and Y out we are going to put them in an array. \n",
    "\n",
    "\n"
   ]
  },
  {
   "cell_type": "code",
   "execution_count": null,
   "metadata": {
    "collapsed": false
   },
   "outputs": [],
   "source": [
    "X = array[:,0:11] \n",
    "Y = array[:,11]"
   ]
  },
  {
   "cell_type": "code",
   "execution_count": null,
   "metadata": {
    "collapsed": false
   },
   "outputs": [],
   "source": [
    "dataframe.head()"
   ]
  },
  {
   "cell_type": "markdown",
   "metadata": {},
   "source": [
    "# Step 4.  Build the Model\n"
   ]
  },
  {
   "cell_type": "markdown",
   "metadata": {},
   "source": [
    "We can piece it all together by adding each layer. \n",
    "\n",
    "> The first layer has 11 neurons and expects 11 input variables. \n",
    "\n",
    "The second hidden layer has 8 neurons.\n",
    "\n",
    "The third hidden layer has 8 neurons. \n",
    "\n",
    "The output layer has 1 neuron to predict the class. \n",
    "\n",
    "How many hidden layers are in our model? "
   ]
  },
  {
   "cell_type": "code",
   "execution_count": null,
   "metadata": {
    "collapsed": true
   },
   "outputs": [],
   "source": [
    "model = Sequential()\n",
    "model.add(Dense(12, input_dim=11, init='uniform', activation='relu'))\n",
    "model.add(Dense(8, init='uniform', activation='relu'))\n",
    "model.add(Dense(1, init='uniform', activation='sigmoid'))"
   ]
  },
  {
   "cell_type": "markdown",
   "metadata": {},
   "source": [
    "# Step 5.  Compile the Model"
   ]
  },
  {
   "cell_type": "markdown",
   "metadata": {},
   "source": [
    "A metric is a function that is used to judge the performance of your model. Metric functions are to be supplied in the  metrics parameter when a model is compiled.\n",
    "\n",
    ">  Lastly, we set the cost (or loss) function to categorical_crossentropy. The (binary) cross-entropy is just the technical term for the **cost function** in logistic regression, and the categorical cross-entropy is its generalization for multi-class predictions via softmax"
   ]
  },
  {
   "cell_type": "markdown",
   "metadata": {},
   "source": [
    "Binary learning models are models which just predict one of two outcomes: positive or negative. These models are very well suited to drive decisions, such as whether to administer a patient a certain drug or to include a lead in a targeted marketing campaign.\n",
    "\n",
    "> Accuracy is perhaps the most intuitive performance measure. **It is simply the ratio of correctly predicted observations.**\n",
    "\n",
    "Using accuracy is only good for symmetric data sets where the class distribution is 50/50 and the cost of false positives and false negatives are roughly the same. In our case our classes are balanced. "
   ]
  },
  {
   "cell_type": "markdown",
   "metadata": {},
   "source": [
    "Whenever you train a model with your data, you are actually producing some new values (predicted) for a specific feature. However, that specific feature already has some values which are real values in the dataset. \n",
    "\n",
    "> We know the the closer the predicted values to their corresponding real values, the better the model.\n",
    "\n",
    "We are using cost function to measure **how close the predicted values are to their corresponding real values.**\n",
    "\n",
    "So, for our model we choose binary_crossentropy. "
   ]
  },
  {
   "cell_type": "code",
   "execution_count": null,
   "metadata": {
    "collapsed": true
   },
   "outputs": [],
   "source": [
    "model.compile(loss='binary_crossentropy', optimizer='adam', metrics=['accuracy'])"
   ]
  },
  {
   "cell_type": "markdown",
   "metadata": {},
   "source": [
    "# Step 5.  Fit the Model"
   ]
  },
  {
   "cell_type": "markdown",
   "metadata": {},
   "source": [
    "**Epoch:** A full pass over all of your training data.\n",
    "\n",
    "For example, let's say you have 1213 observations. So an epoch concludes when it has finished a training pass over all 1213 of your observations.\n",
    "\n",
    "> What you'd expect to see from running fit on your Keras model, is a decrease in loss over n number of epochs."
   ]
  },
  {
   "cell_type": "markdown",
   "metadata": {},
   "source": [
    "batch_size denotes the subset size of your training sample (e.g. 100 out of 1000) which is going to be used in order to train the network during its learning process. \n",
    "\n",
    "Each batch trains network in a successive order, taking into account the updated weights coming from the appliance of the previous batch. \n",
    "\n",
    ">Example: if you have 1000 training examples, and your batch size is 500, then it will take 2 iterations to complete 1 epoch.\n",
    "\n"
   ]
  },
  {
   "cell_type": "code",
   "execution_count": null,
   "metadata": {
    "collapsed": false
   },
   "outputs": [],
   "source": [
    "model.fit(X, Y, nb_epoch=200, batch_size=30)"
   ]
  },
  {
   "cell_type": "markdown",
   "metadata": {},
   "source": [
    "# Step 6.  Score the Model"
   ]
  },
  {
   "cell_type": "code",
   "execution_count": null,
   "metadata": {
    "collapsed": false
   },
   "outputs": [],
   "source": [
    "scores = model.evaluate(X, Y)\n",
    "print(\"%s: %.2f%%\" % (model.metrics_names[1], scores[1]*100))\n"
   ]
  }
 ],
 "metadata": {
  "kernelspec": {
   "display_name": "Python 2",
   "language": "python",
   "name": "python2"
  },
  "language_info": {
   "codemirror_mode": {
    "name": "ipython",
    "version": 2
   },
   "file_extension": ".py",
   "mimetype": "text/x-python",
   "name": "python",
   "nbconvert_exporter": "python",
   "pygments_lexer": "ipython2",
   "version": "2.7.13"
  }
 },
 "nbformat": 4,
 "nbformat_minor": 2
}
