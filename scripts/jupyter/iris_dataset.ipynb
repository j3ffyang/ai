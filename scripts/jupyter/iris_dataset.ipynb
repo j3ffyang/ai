{
 "cells": [
  {
   "cell_type": "code",
   "execution_count": 1,
   "metadata": {},
   "outputs": [
    {
     "name": "stdout",
     "output_type": "stream",
     "text": [
      "hello world\n"
     ]
    }
   ],
   "source": [
    "print('hello world')"
   ]
  },
  {
   "cell_type": "code",
   "execution_count": 2,
   "metadata": {},
   "outputs": [
    {
     "name": "stdout",
     "output_type": "stream",
     "text": [
      "hello world2\n"
     ]
    }
   ],
   "source": [
    "print('hello world2')"
   ]
  },
  {
   "cell_type": "code",
   "execution_count": 10,
   "metadata": {},
   "outputs": [
    {
     "data": {
      "text/html": [
       "sepal_length,sepal_width,petal_length,petal_width,species\n",
       "5.1,3.5,1.4,0.2,setosa\n",
       "4.9,3.0,1.4,0.2,setosa\n",
       "4.7,3.2,1.3,0.2,setosa\n",
       "4.6,3.1,1.5,0.2,setosa\n",
       "5.0,3.6,1.4,0.2,setosa\n",
       "5.4,3.9,1.7,0.4,setosa\n",
       "4.6,3.4,1.4,0.3,setosa\n",
       "5.0,3.4,1.5,0.2,setosa\n",
       "4.4,2.9,1.4,0.2,setosa\n",
       "4.9,3.1,1.5,0.1,setosa\n",
       "5.4,3.7,1.5,0.2,setosa\n",
       "4.8,3.4,1.6,0.2,setosa\n",
       "4.8,3.0,1.4,0.1,setosa\n",
       "4.3,3.0,1.1,0.1,setosa\n",
       "5.8,4.0,1.2,0.2,setosa\n",
       "5.7,4.4,1.5,0.4,setosa\n",
       "5.4,3.9,1.3,0.4,setosa\n",
       "5.1,3.5,1.4,0.3,setosa\n",
       "5.7,3.8,1.7,0.3,setosa\n",
       "5.1,3.8,1.5,0.3,setosa\n",
       "5.4,3.4,1.7,0.2,setosa\n",
       "5.1,3.7,1.5,0.4,setosa\n",
       "4.6,3.6,1.0,0.2,setosa\n",
       "5.1,3.3,1.7,0.5,setosa\n",
       "4.8,3.4,1.9,0.2,setosa\n",
       "5.0,3.0,1.6,0.2,setosa\n",
       "5.0,3.4,1.6,0.4,setosa\n",
       "5.2,3.5,1.5,0.2,setosa\n",
       "5.2,3.4,1.4,0.2,setosa\n",
       "4.7,3.2,1.6,0.2,setosa\n",
       "4.8,3.1,1.6,0.2,setosa\n",
       "5.4,3.4,1.5,0.4,setosa\n",
       "5.2,4.1,1.5,0.1,setosa\n",
       "5.5,4.2,1.4,0.2,setosa\n",
       "4.9,3.1,1.5,0.1,setosa\n",
       "5.0,3.2,1.2,0.2,setosa\n",
       "5.5,3.5,1.3,0.2,setosa\n",
       "4.9,3.1,1.5,0.1,setosa\n",
       "4.4,3.0,1.3,0.2,setosa\n",
       "5.1,3.4,1.5,0.2,setosa\n",
       "5.0,3.5,1.3,0.3,setosa\n",
       "4.5,2.3,1.3,0.3,setosa\n",
       "4.4,3.2,1.3,0.2,setosa\n",
       "5.0,3.5,1.6,0.6,setosa\n",
       "5.1,3.8,1.9,0.4,setosa\n",
       "4.8,3.0,1.4,0.3,setosa\n",
       "5.1,3.8,1.6,0.2,setosa\n",
       "4.6,3.2,1.4,0.2,setosa\n",
       "5.3,3.7,1.5,0.2,setosa\n",
       "5.0,3.3,1.4,0.2,setosa\n",
       "7.0,3.2,4.7,1.4,versicolor\n",
       "6.4,3.2,4.5,1.5,versicolor\n",
       "6.9,3.1,4.9,1.5,versicolor\n",
       "5.5,2.3,4.0,1.3,versicolor\n",
       "6.5,2.8,4.6,1.5,versicolor\n",
       "5.7,2.8,4.5,1.3,versicolor\n",
       "6.3,3.3,4.7,1.6,versicolor\n",
       "4.9,2.4,3.3,1.0,versicolor\n",
       "6.6,2.9,4.6,1.3,versicolor\n",
       "5.2,2.7,3.9,1.4,versicolor\n",
       "5.0,2.0,3.5,1.0,versicolor\n",
       "5.9,3.0,4.2,1.5,versicolor\n",
       "6.0,2.2,4.0,1.0,versicolor\n",
       "6.1,2.9,4.7,1.4,versicolor\n",
       "5.6,2.9,3.6,1.3,versicolor\n",
       "6.7,3.1,4.4,1.4,versicolor\n",
       "5.6,3.0,4.5,1.5,versicolor\n",
       "5.8,2.7,4.1,1.0,versicolor\n",
       "6.2,2.2,4.5,1.5,versicolor\n",
       "5.6,2.5,3.9,1.1,versicolor\n",
       "5.9,3.2,4.8,1.8,versicolor\n",
       "6.1,2.8,4.0,1.3,versicolor\n",
       "6.3,2.5,4.9,1.5,versicolor\n",
       "6.1,2.8,4.7,1.2,versicolor\n",
       "6.4,2.9,4.3,1.3,versicolor\n",
       "6.6,3.0,4.4,1.4,versicolor\n",
       "6.8,2.8,4.8,1.4,versicolor\n",
       "6.7,3.0,5.0,1.7,versicolor\n",
       "6.0,2.9,4.5,1.5,versicolor\n",
       "5.7,2.6,3.5,1.0,versicolor\n",
       "5.5,2.4,3.8,1.1,versicolor\n",
       "5.5,2.4,3.7,1.0,versicolor\n",
       "5.8,2.7,3.9,1.2,versicolor\n",
       "6.0,2.7,5.1,1.6,versicolor\n",
       "5.4,3.0,4.5,1.5,versicolor\n",
       "6.0,3.4,4.5,1.6,versicolor\n",
       "6.7,3.1,4.7,1.5,versicolor\n",
       "6.3,2.3,4.4,1.3,versicolor\n",
       "5.6,3.0,4.1,1.3,versicolor\n",
       "5.5,2.5,4.0,1.3,versicolor\n",
       "5.5,2.6,4.4,1.2,versicolor\n",
       "6.1,3.0,4.6,1.4,versicolor\n",
       "5.8,2.6,4.0,1.2,versicolor\n",
       "5.0,2.3,3.3,1.0,versicolor\n",
       "5.6,2.7,4.2,1.3,versicolor\n",
       "5.7,3.0,4.2,1.2,versicolor\n",
       "5.7,2.9,4.2,1.3,versicolor\n",
       "6.2,2.9,4.3,1.3,versicolor\n",
       "5.1,2.5,3.0,1.1,versicolor\n",
       "5.7,2.8,4.1,1.3,versicolor\n",
       "6.3,3.3,6.0,2.5,virginica\n",
       "5.8,2.7,5.1,1.9,virginica\n",
       "7.1,3.0,5.9,2.1,virginica\n",
       "6.3,2.9,5.6,1.8,virginica\n",
       "6.5,3.0,5.8,2.2,virginica\n",
       "7.6,3.0,6.6,2.1,virginica\n",
       "4.9,2.5,4.5,1.7,virginica\n",
       "7.3,2.9,6.3,1.8,virginica\n",
       "6.7,2.5,5.8,1.8,virginica\n",
       "7.2,3.6,6.1,2.5,virginica\n",
       "6.5,3.2,5.1,2.0,virginica\n",
       "6.4,2.7,5.3,1.9,virginica\n",
       "6.8,3.0,5.5,2.1,virginica\n",
       "5.7,2.5,5.0,2.0,virginica\n",
       "5.8,2.8,5.1,2.4,virginica\n",
       "6.4,3.2,5.3,2.3,virginica\n",
       "6.5,3.0,5.5,1.8,virginica\n",
       "7.7,3.8,6.7,2.2,virginica\n",
       "7.7,2.6,6.9,2.3,virginica\n",
       "6.0,2.2,5.0,1.5,virginica\n",
       "6.9,3.2,5.7,2.3,virginica\n",
       "5.6,2.8,4.9,2.0,virginica\n",
       "7.7,2.8,6.7,2.0,virginica\n",
       "6.3,2.7,4.9,1.8,virginica\n",
       "6.7,3.3,5.7,2.1,virginica\n",
       "7.2,3.2,6.0,1.8,virginica\n",
       "6.2,2.8,4.8,1.8,virginica\n",
       "6.1,3.0,4.9,1.8,virginica\n",
       "6.4,2.8,5.6,2.1,virginica\n",
       "7.2,3.0,5.8,1.6,virginica\n",
       "7.4,2.8,6.1,1.9,virginica\n",
       "7.9,3.8,6.4,2.0,virginica\n",
       "6.4,2.8,5.6,2.2,virginica\n",
       "6.3,2.8,5.1,1.5,virginica\n",
       "6.1,2.6,5.6,1.4,virginica\n",
       "7.7,3.0,6.1,2.3,virginica\n",
       "6.3,3.4,5.6,2.4,virginica\n",
       "6.4,3.1,5.5,1.8,virginica\n",
       "6.0,3.0,4.8,1.8,virginica\n",
       "6.9,3.1,5.4,2.1,virginica\n",
       "6.7,3.1,5.6,2.4,virginica\n",
       "6.9,3.1,5.1,2.3,virginica\n",
       "5.8,2.7,5.1,1.9,virginica\n",
       "6.8,3.2,5.9,2.3,virginica\n",
       "6.7,3.3,5.7,2.5,virginica\n",
       "6.7,3.0,5.2,2.3,virginica\n",
       "6.3,2.5,5.0,1.9,virginica\n",
       "6.5,3.0,5.2,2.0,virginica\n",
       "6.2,3.4,5.4,2.3,virginica\n",
       "5.9,3.0,5.1,1.8,virginica\n"
      ],
      "text/plain": [
       "<IPython.core.display.HTML object>"
      ]
     },
     "execution_count": 10,
     "metadata": {},
     "output_type": "execute_result"
    }
   ],
   "source": [
    "from IPython.display import HTML\n",
    "HTML('https://gist.githubusercontent.com/curran/a08a1080b88344b0c8a7/raw/d546eaee765268bf2f487608c537c05e22e4b221/iris.csv')"
   ]
  },
  {
   "cell_type": "code",
   "execution_count": null,
   "metadata": {},
   "outputs": [],
   "source": []
  },
  {
   "cell_type": "code",
   "execution_count": 9,
   "metadata": {
    "scrolled": true
   },
   "outputs": [
    {
     "data": {
      "text/html": [
       "<iframe src=https://gist.githubusercontent.com/curran/a08a1080b88344b0c8a7/raw/d546eaee765268bf2f487608c537c05e22e4b221/iris.csv></frame>"
      ],
      "text/plain": [
       "<IPython.core.display.HTML object>"
      ]
     },
     "execution_count": 9,
     "metadata": {},
     "output_type": "execute_result"
    }
   ],
   "source": [
    "from IPython.display import HTML\n",
    "HTML('<iframe src=https://gist.githubusercontent.com/curran/a08a1080b88344b0c8a7/raw/d546eaee765268bf2f487608c537c05e22e4b221/iris.csv></frame>')"
   ]
  },
  {
   "cell_type": "code",
   "execution_count": 11,
   "metadata": {},
   "outputs": [
    {
     "data": {
      "text/plain": [
       "sklearn.utils.Bunch"
      ]
     },
     "execution_count": 11,
     "metadata": {},
     "output_type": "execute_result"
    }
   ],
   "source": [
    "from sklearn.datasets import load_iris\n",
    "iris = load_iris()\n",
    "type(iris)"
   ]
  },
  {
   "cell_type": "code",
   "execution_count": 12,
   "metadata": {},
   "outputs": [
    {
     "name": "stdout",
     "output_type": "stream",
     "text": [
      "['sepal length (cm)', 'sepal width (cm)', 'petal length (cm)', 'petal width (cm)']\n"
     ]
    }
   ],
   "source": [
    "print(iris.feature_names)"
   ]
  },
  {
   "cell_type": "code",
   "execution_count": 13,
   "metadata": {},
   "outputs": [
    {
     "name": "stdout",
     "output_type": "stream",
     "text": [
      "['setosa' 'versicolor' 'virginica']\n"
     ]
    }
   ],
   "source": [
    "print(iris.target_names)"
   ]
  },
  {
   "cell_type": "code",
   "execution_count": 14,
   "metadata": {},
   "outputs": [
    {
     "name": "stdout",
     "output_type": "stream",
     "text": [
      "[0 0 0 0 0 0 0 0 0 0 0 0 0 0 0 0 0 0 0 0 0 0 0 0 0 0 0 0 0 0 0 0 0 0 0 0 0\n",
      " 0 0 0 0 0 0 0 0 0 0 0 0 0 1 1 1 1 1 1 1 1 1 1 1 1 1 1 1 1 1 1 1 1 1 1 1 1\n",
      " 1 1 1 1 1 1 1 1 1 1 1 1 1 1 1 1 1 1 1 1 1 1 1 1 1 1 2 2 2 2 2 2 2 2 2 2 2\n",
      " 2 2 2 2 2 2 2 2 2 2 2 2 2 2 2 2 2 2 2 2 2 2 2 2 2 2 2 2 2 2 2 2 2 2 2 2 2\n",
      " 2 2]\n"
     ]
    }
   ],
   "source": [
    "print(iris.target)"
   ]
  },
  {
   "cell_type": "code",
   "execution_count": 15,
   "metadata": {},
   "outputs": [
    {
     "name": "stdout",
     "output_type": "stream",
     "text": [
      "[[5.1 3.5 1.4 0.2]\n",
      " [4.9 3.  1.4 0.2]\n",
      " [4.7 3.2 1.3 0.2]\n",
      " [4.6 3.1 1.5 0.2]\n",
      " [5.  3.6 1.4 0.2]\n",
      " [5.4 3.9 1.7 0.4]\n",
      " [4.6 3.4 1.4 0.3]\n",
      " [5.  3.4 1.5 0.2]\n",
      " [4.4 2.9 1.4 0.2]\n",
      " [4.9 3.1 1.5 0.1]\n",
      " [5.4 3.7 1.5 0.2]\n",
      " [4.8 3.4 1.6 0.2]\n",
      " [4.8 3.  1.4 0.1]\n",
      " [4.3 3.  1.1 0.1]\n",
      " [5.8 4.  1.2 0.2]\n",
      " [5.7 4.4 1.5 0.4]\n",
      " [5.4 3.9 1.3 0.4]\n",
      " [5.1 3.5 1.4 0.3]\n",
      " [5.7 3.8 1.7 0.3]\n",
      " [5.1 3.8 1.5 0.3]\n",
      " [5.4 3.4 1.7 0.2]\n",
      " [5.1 3.7 1.5 0.4]\n",
      " [4.6 3.6 1.  0.2]\n",
      " [5.1 3.3 1.7 0.5]\n",
      " [4.8 3.4 1.9 0.2]\n",
      " [5.  3.  1.6 0.2]\n",
      " [5.  3.4 1.6 0.4]\n",
      " [5.2 3.5 1.5 0.2]\n",
      " [5.2 3.4 1.4 0.2]\n",
      " [4.7 3.2 1.6 0.2]\n",
      " [4.8 3.1 1.6 0.2]\n",
      " [5.4 3.4 1.5 0.4]\n",
      " [5.2 4.1 1.5 0.1]\n",
      " [5.5 4.2 1.4 0.2]\n",
      " [4.9 3.1 1.5 0.1]\n",
      " [5.  3.2 1.2 0.2]\n",
      " [5.5 3.5 1.3 0.2]\n",
      " [4.9 3.1 1.5 0.1]\n",
      " [4.4 3.  1.3 0.2]\n",
      " [5.1 3.4 1.5 0.2]\n",
      " [5.  3.5 1.3 0.3]\n",
      " [4.5 2.3 1.3 0.3]\n",
      " [4.4 3.2 1.3 0.2]\n",
      " [5.  3.5 1.6 0.6]\n",
      " [5.1 3.8 1.9 0.4]\n",
      " [4.8 3.  1.4 0.3]\n",
      " [5.1 3.8 1.6 0.2]\n",
      " [4.6 3.2 1.4 0.2]\n",
      " [5.3 3.7 1.5 0.2]\n",
      " [5.  3.3 1.4 0.2]\n",
      " [7.  3.2 4.7 1.4]\n",
      " [6.4 3.2 4.5 1.5]\n",
      " [6.9 3.1 4.9 1.5]\n",
      " [5.5 2.3 4.  1.3]\n",
      " [6.5 2.8 4.6 1.5]\n",
      " [5.7 2.8 4.5 1.3]\n",
      " [6.3 3.3 4.7 1.6]\n",
      " [4.9 2.4 3.3 1. ]\n",
      " [6.6 2.9 4.6 1.3]\n",
      " [5.2 2.7 3.9 1.4]\n",
      " [5.  2.  3.5 1. ]\n",
      " [5.9 3.  4.2 1.5]\n",
      " [6.  2.2 4.  1. ]\n",
      " [6.1 2.9 4.7 1.4]\n",
      " [5.6 2.9 3.6 1.3]\n",
      " [6.7 3.1 4.4 1.4]\n",
      " [5.6 3.  4.5 1.5]\n",
      " [5.8 2.7 4.1 1. ]\n",
      " [6.2 2.2 4.5 1.5]\n",
      " [5.6 2.5 3.9 1.1]\n",
      " [5.9 3.2 4.8 1.8]\n",
      " [6.1 2.8 4.  1.3]\n",
      " [6.3 2.5 4.9 1.5]\n",
      " [6.1 2.8 4.7 1.2]\n",
      " [6.4 2.9 4.3 1.3]\n",
      " [6.6 3.  4.4 1.4]\n",
      " [6.8 2.8 4.8 1.4]\n",
      " [6.7 3.  5.  1.7]\n",
      " [6.  2.9 4.5 1.5]\n",
      " [5.7 2.6 3.5 1. ]\n",
      " [5.5 2.4 3.8 1.1]\n",
      " [5.5 2.4 3.7 1. ]\n",
      " [5.8 2.7 3.9 1.2]\n",
      " [6.  2.7 5.1 1.6]\n",
      " [5.4 3.  4.5 1.5]\n",
      " [6.  3.4 4.5 1.6]\n",
      " [6.7 3.1 4.7 1.5]\n",
      " [6.3 2.3 4.4 1.3]\n",
      " [5.6 3.  4.1 1.3]\n",
      " [5.5 2.5 4.  1.3]\n",
      " [5.5 2.6 4.4 1.2]\n",
      " [6.1 3.  4.6 1.4]\n",
      " [5.8 2.6 4.  1.2]\n",
      " [5.  2.3 3.3 1. ]\n",
      " [5.6 2.7 4.2 1.3]\n",
      " [5.7 3.  4.2 1.2]\n",
      " [5.7 2.9 4.2 1.3]\n",
      " [6.2 2.9 4.3 1.3]\n",
      " [5.1 2.5 3.  1.1]\n",
      " [5.7 2.8 4.1 1.3]\n",
      " [6.3 3.3 6.  2.5]\n",
      " [5.8 2.7 5.1 1.9]\n",
      " [7.1 3.  5.9 2.1]\n",
      " [6.3 2.9 5.6 1.8]\n",
      " [6.5 3.  5.8 2.2]\n",
      " [7.6 3.  6.6 2.1]\n",
      " [4.9 2.5 4.5 1.7]\n",
      " [7.3 2.9 6.3 1.8]\n",
      " [6.7 2.5 5.8 1.8]\n",
      " [7.2 3.6 6.1 2.5]\n",
      " [6.5 3.2 5.1 2. ]\n",
      " [6.4 2.7 5.3 1.9]\n",
      " [6.8 3.  5.5 2.1]\n",
      " [5.7 2.5 5.  2. ]\n",
      " [5.8 2.8 5.1 2.4]\n",
      " [6.4 3.2 5.3 2.3]\n",
      " [6.5 3.  5.5 1.8]\n",
      " [7.7 3.8 6.7 2.2]\n",
      " [7.7 2.6 6.9 2.3]\n",
      " [6.  2.2 5.  1.5]\n",
      " [6.9 3.2 5.7 2.3]\n",
      " [5.6 2.8 4.9 2. ]\n",
      " [7.7 2.8 6.7 2. ]\n",
      " [6.3 2.7 4.9 1.8]\n",
      " [6.7 3.3 5.7 2.1]\n",
      " [7.2 3.2 6.  1.8]\n",
      " [6.2 2.8 4.8 1.8]\n",
      " [6.1 3.  4.9 1.8]\n",
      " [6.4 2.8 5.6 2.1]\n",
      " [7.2 3.  5.8 1.6]\n",
      " [7.4 2.8 6.1 1.9]\n",
      " [7.9 3.8 6.4 2. ]\n",
      " [6.4 2.8 5.6 2.2]\n",
      " [6.3 2.8 5.1 1.5]\n",
      " [6.1 2.6 5.6 1.4]\n",
      " [7.7 3.  6.1 2.3]\n",
      " [6.3 3.4 5.6 2.4]\n",
      " [6.4 3.1 5.5 1.8]\n",
      " [6.  3.  4.8 1.8]\n",
      " [6.9 3.1 5.4 2.1]\n",
      " [6.7 3.1 5.6 2.4]\n",
      " [6.9 3.1 5.1 2.3]\n",
      " [5.8 2.7 5.1 1.9]\n",
      " [6.8 3.2 5.9 2.3]\n",
      " [6.7 3.3 5.7 2.5]\n",
      " [6.7 3.  5.2 2.3]\n",
      " [6.3 2.5 5.  1.9]\n",
      " [6.5 3.  5.2 2. ]\n",
      " [6.2 3.4 5.4 2.3]\n",
      " [5.9 3.  5.1 1.8]]\n"
     ]
    }
   ],
   "source": [
    "print(iris.data)"
   ]
  },
  {
   "cell_type": "code",
   "execution_count": 16,
   "metadata": {},
   "outputs": [
    {
     "name": "stdout",
     "output_type": "stream",
     "text": [
      "<class 'numpy.ndarray'>\n"
     ]
    }
   ],
   "source": [
    "print(type(iris.data))"
   ]
  },
  {
   "cell_type": "code",
   "execution_count": 17,
   "metadata": {},
   "outputs": [
    {
     "name": "stdout",
     "output_type": "stream",
     "text": [
      "<class 'numpy.ndarray'>\n"
     ]
    }
   ],
   "source": [
    "print(type(iris.target))"
   ]
  },
  {
   "cell_type": "code",
   "execution_count": 18,
   "metadata": {},
   "outputs": [],
   "source": [
    "X = iris.data\n",
    "y = iris.target"
   ]
  },
  {
   "cell_type": "code",
   "execution_count": 20,
   "metadata": {},
   "outputs": [
    {
     "ename": "ImportError",
     "evalue": "cannot import name 'KNeighborClassifier'",
     "output_type": "error",
     "traceback": [
      "\u001b[0;31m---------------------------------------------------------------------------\u001b[0m",
      "\u001b[0;31mImportError\u001b[0m                               Traceback (most recent call last)",
      "\u001b[0;32m<ipython-input-20-9e862a735fea>\u001b[0m in \u001b[0;36m<module>\u001b[0;34m()\u001b[0m\n\u001b[0;32m----> 1\u001b[0;31m \u001b[0;32mfrom\u001b[0m \u001b[0msklearn\u001b[0m\u001b[0;34m.\u001b[0m\u001b[0mneighbors\u001b[0m \u001b[0;32mimport\u001b[0m \u001b[0mKNeighborClassifier\u001b[0m\u001b[0;34m\u001b[0m\u001b[0m\n\u001b[0m\u001b[1;32m      2\u001b[0m \u001b[0mKNeighborsClassifier\u001b[0m\u001b[0;34m(\u001b[0m\u001b[0mn_neighbors\u001b[0m\u001b[0;34m=\u001b[0m\u001b[0;36m1\u001b[0m\u001b[0;34m)\u001b[0m\u001b[0;34m\u001b[0m\u001b[0m\n",
      "\u001b[0;31mImportError\u001b[0m: cannot import name 'KNeighborClassifier'"
     ]
    }
   ],
   "source": [
    "from sklearn.neighbors import KNeighborClassifier\n",
    "KNeighborsClassifier(n_neighbors=1)"
   ]
  },
  {
   "cell_type": "code",
   "execution_count": 21,
   "metadata": {},
   "outputs": [
    {
     "data": {
      "text/html": [
       "<iframe src=https://archive.ics.uci.edu/ml/machine-learning-databases/iris/iris.data></frame>"
      ],
      "text/plain": [
       "<IPython.core.display.HTML object>"
      ]
     },
     "execution_count": 21,
     "metadata": {},
     "output_type": "execute_result"
    }
   ],
   "source": [
    "from IPython.display import HTML\n",
    "HTML('<iframe src=https://archive.ics.uci.edu/ml/machine-learning-databases/iris/iris.data></frame>')"
   ]
  }
 ],
 "metadata": {
  "kernelspec": {
   "display_name": "Python 3",
   "language": "python",
   "name": "python3"
  },
  "language_info": {
   "codemirror_mode": {
    "name": "ipython",
    "version": 3
   },
   "file_extension": ".py",
   "mimetype": "text/x-python",
   "name": "python",
   "nbconvert_exporter": "python",
   "pygments_lexer": "ipython3",
   "version": "3.5.3"
  }
 },
 "nbformat": 4,
 "nbformat_minor": 2
}
